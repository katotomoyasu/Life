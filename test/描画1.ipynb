{
 "cells": [
  {
   "cell_type": "code",
   "execution_count": 3,
   "id": "7ccd18e5-b5f4-423f-95c9-a2872217df9d",
   "metadata": {},
   "outputs": [
    {
     "data": {
      "application/vnd.jupyter.widget-view+json": {
       "model_id": "4bf0a774b6424420a3b0e45ad1d18dce",
       "version_major": 2,
       "version_minor": 0
      },
      "text/plain": [
       "Canvas(height=300, width=400)"
      ]
     },
     "metadata": {},
     "output_type": "display_data"
    }
   ],
   "source": [
    "# インストール（初回のみ必要）\n",
    "# !pip install ipycanvas\n",
    "\n",
    "from ipycanvas import Canvas\n",
    "import ipywidgets as widgets\n",
    "from IPython.display import display\n",
    "\n",
    "# キャンバスの作成\n",
    "canvas = Canvas(width=400, height=300)\n",
    "\n",
    "# 背景色の設定\n",
    "canvas.fill_style = \"lightblue\"\n",
    "canvas.fill_rect(0, 0, 400, 300)\n",
    "\n",
    "# キャラクターを描画\n",
    "canvas.fill_style = \"red\"\n",
    "canvas.fill_rect(50, 50, 20, 30)  # 簡易的なキャラクター\n",
    "\n",
    "# テキスト描画\n",
    "canvas.font = \"20px serif\"\n",
    "canvas.fill_style = \"black\"\n",
    "canvas.fill_text(\"RPGバトル画面\", 150, 30)\n",
    "\n",
    "# HPバーを描画\n",
    "canvas.fill_style = \"green\"\n",
    "canvas.fill_rect(50, 100, 100, 10)  # HPバー\n",
    "\n",
    "display(canvas)"
   ]
  },
  {
   "cell_type": "code",
   "execution_count": 5,
   "id": "6bcaa0bd-ce8a-4117-9648-000528d86d75",
   "metadata": {},
   "outputs": [
    {
     "data": {
      "image/png": "[encoded data removed]",
      "text/plain": [
       "<Figure size 1000x600 with 1 Axes>"
      ]
     },
     "metadata": {},
     "output_type": "display_data"
    }
   ],
   "source": [
    "import matplotlib.pyplot as plt\n",
    "import numpy as np\n",
    "from matplotlib.patches import Rectangle\n",
    "import matplotlib\n",
    "\n",
    "# 日本語フォントの設定\n",
    "# いくつかの一般的な日本語フォント名を試してみる\n",
    "plt.rcParams['font.family'] = 'sans-serif'\n",
    "# 以下のフォントリストから環境にあるものが選ばれる\n",
    "plt.rcParams['font.sans-serif'] = ['IPAGothic', 'Hiragino Sans', 'Meiryo', 'Yu Gothic', 'MS Gothic', 'Noto Sans CJK JP']\n",
    "\n",
    "def display_battle_scene(player, enemy, turn=2, message=\"スライムに15のダメージ！\"):\n",
    "    plt.figure(figsize=(10, 6))\n",
    "    ax = plt.gca()\n",
    "    ax.set_xlim(0, 100)\n",
    "    ax.set_ylim(0, 60)\n",
    "    \n",
    "    # 背景色\n",
    "    ax.add_patch(Rectangle((0, 0), 100, 60, facecolor='#e6e6fa'))\n",
    "    \n",
    "    # プレイヤーキャラクター\n",
    "    ax.add_patch(Rectangle((20, 15), 8, 16, facecolor='blue'))\n",
    "    \n",
    "    # 敵キャラクター\n",
    "    ax.add_patch(Rectangle((70, 15), 10, 10, facecolor='red'))\n",
    "    \n",
    "    # プレイヤーHPバー\n",
    "    max_hp_width = 20\n",
    "    hp_ratio = max(0, player.hp / player.max_hp)\n",
    "    hp_width = max_hp_width * hp_ratio\n",
    "    ax.add_patch(Rectangle((10, 40), max_hp_width, 3, facecolor='#cccccc'))\n",
    "    ax.add_patch(Rectangle((10, 40), hp_width, 3, facecolor='green'))\n",
    "    \n",
    "    # 敵HPバー\n",
    "    enemy_hp_ratio = max(0, enemy.hp / enemy.max_hp)\n",
    "    enemy_hp_width = max_hp_width * enemy_hp_ratio\n",
    "    ax.add_patch(Rectangle((70, 40), max_hp_width, 3, facecolor='#cccccc'))\n",
    "    ax.add_patch(Rectangle((70, 40), enemy_hp_width, 3, facecolor='red'))\n",
    "    \n",
    "    # MPバー（プレイヤー）\n",
    "    mp_ratio = player.mp / player.max_mp\n",
    "    mp_width = max_hp_width * mp_ratio\n",
    "    ax.add_patch(Rectangle((10, 37), max_hp_width, 2, facecolor='#cccccc'))\n",
    "    ax.add_patch(Rectangle((10, 37), mp_width, 2, facecolor='blue'))\n",
    "    \n",
    "    # テキスト（日本語対応）\n",
    "    ax.text(10, 45, f\"{player.name} (Lv.{player.level})\")\n",
    "    ax.text(10, 42, f\"HP: {player.hp}/{player.max_hp}\")\n",
    "    ax.text(10, 34, f\"MP: {player.mp}/{player.max_mp}\")\n",
    "    \n",
    "    ax.text(70, 45, f\"{enemy.name} (Lv.{enemy.level})\")\n",
    "    ax.text(70, 42, f\"HP: {enemy.hp}/{enemy.max_hp}\")\n",
    "    \n",
    "    # タイトルとターン情報\n",
    "    ax.text(50, 55, \"RPGバトル\", fontsize=14, ha='center')\n",
    "    ax.text(50, 52, f\"ターン {turn}\", ha='center')\n",
    "    \n",
    "    # メッセージ領域\n",
    "    ax.add_patch(Rectangle((10, 5), 80, 8, facecolor='white', alpha=0.7))\n",
    "    ax.text(50, 9, message, ha='center')\n",
    "    \n",
    "    # コマンド領域\n",
    "    commands = [\"攻撃\", \"スキル\", \"アイテム\", \"逃げる\"]\n",
    "    for i, cmd in enumerate(commands):\n",
    "        x = 15 + i * 20\n",
    "        ax.add_patch(Rectangle((x, 1), 15, 3, facecolor='#dddddd'))\n",
    "        ax.text(x + 7.5, 2.5, cmd, ha='center', va='center')\n",
    "    \n",
    "    # 軸を非表示\n",
    "    ax.axis('off')\n",
    "    \n",
    "    plt.tight_layout()\n",
    "    plt.show()\n",
    "\n",
    "# サンプルクラス\n",
    "class Character:\n",
    "    def __init__(self, name, hp, mp, level=1):\n",
    "        self.name = name\n",
    "        self.hp = hp\n",
    "        self.max_hp = hp\n",
    "        self.mp = mp\n",
    "        self.max_mp = mp\n",
    "        self.level = level\n",
    "\n",
    "# サンプル実行\n",
    "hero = Character(\"勇者\", 85, 50, 5)\n",
    "slime = Character(\"スライム\", 30, 0, 3)\n",
    "\n",
    "# バトル画面の表示\n",
    "display_battle_scene(hero, slime)"
   ]
  },
  {
   "cell_type": "code",
   "execution_count": 11,
   "id": "de4b3be8-059e-4115-963b-6a49006f2c06",
   "metadata": {
    "scrolled": true
   },
   "outputs": [
    {
     "name": "stdout",
     "output_type": "stream",
     "text": [
      "\u001b[33m(Deprecated) Installing extensions with the jupyter labextension install command is now deprecated and will be removed in a future major version of JupyterLab.\n",
      "\n",
      "Users should manage prebuilt extensions with package managers like pip and conda, and extension authors are encouraged to distribute their extensions as prebuilt packages \u001b[0m\n",
      "/usr/local/lib/python3.9/site-packages/jupyterlab/debuglog.py:54: UserWarning: An error occurred.\n",
      "  warnings.warn(\"An error occurred.\")\n",
      "/usr/local/lib/python3.9/site-packages/jupyterlab/debuglog.py:55: UserWarning: ValueError: Please install Node.js and npm before continuing installation. You may be able to install Node.js from your package manager, from conda, or directly from the Node.js website (https://nodejs.org).\n",
      "  warnings.warn(msg[-1].strip())\n",
      "/usr/local/lib/python3.9/site-packages/jupyterlab/debuglog.py:56: UserWarning: See the log file for details: /tmp/jupyterlab-debug-1h9hsv3w.log\n",
      "  warnings.warn(f\"See the log file for details: {log_path!s}\")\n",
      "\u001b[33m(Deprecated) Installing extensions with the jupyter labextension install command is now deprecated and will be removed in a future major version of JupyterLab.\n",
      "\n",
      "Users should manage prebuilt extensions with package managers like pip and conda, and extension authors are encouraged to distribute their extensions as prebuilt packages \u001b[0m\n",
      "/usr/local/lib/python3.9/site-packages/jupyterlab/debuglog.py:54: UserWarning: An error occurred.\n",
      "  warnings.warn(\"An error occurred.\")\n",
      "/usr/local/lib/python3.9/site-packages/jupyterlab/debuglog.py:55: UserWarning: ValueError: Please install Node.js and npm before continuing installation. You may be able to install Node.js from your package manager, from conda, or directly from the Node.js website (https://nodejs.org).\n",
      "  warnings.warn(msg[-1].strip())\n",
      "/usr/local/lib/python3.9/site-packages/jupyterlab/debuglog.py:56: UserWarning: See the log file for details: /tmp/jupyterlab-debug-mdpndzqx.log\n",
      "  warnings.warn(f\"See the log file for details: {log_path!s}\")\n"
     ]
    }
   ],
   "source": [
    "!jupyter labextension install @jupyter-widgets/jupyterlab-manager\n",
    "!jupyter labextension install ipycanvas"
   ]
  }
 ],
 "metadata": {
  "kernelspec": {
   "display_name": "Python 3 (ipykernel)",
   "language": "python",
   "name": "python3"
  },
  "language_info": {
   "codemirror_mode": {
    "name": "ipython",
    "version": 3
   },
   "file_extension": ".py",
   "mimetype": "text/x-python",
   "name": "python",
   "nbconvert_exporter": "python",
   "pygments_lexer": "ipython3",
   "version": "3.9.21"
  }
 },
 "nbformat": 4,
 "nbformat_minor": 5
}
