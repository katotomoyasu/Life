{
 "cells": [
  {
   "cell_type": "code",
   "execution_count": null,
   "id": "0f649a13-fbfc-4467-837f-2b810417526d",
   "metadata": {
    "jupyter": {
     "source_hidden": true
    }
   },
   "outputs": [],
   "source": [
    "# 1. まず、すべての関連パッケージを完全に削除\n",
    "pip uninstall gradient -y\n",
    "pip uninstall paperspace -y\n",
    "\n",
    "# 2. pipを最新版にアップグレード\n",
    "python -m pip install --upgrade pip\n",
    "\n",
    "# 3. パッケージキャッシュを完全にクリア\n",
    "rm -rf ~/.cache/pip  # Linuxの場合\n",
    "# または\n",
    "pip cache purge     # 一般的な方法\n",
    "\n",
    "# 4. 特定の最新バージョンを指定してインストール\n",
    "pip install gradient==2.0.0"
   ]
  },
  {
   "cell_type": "code",
   "execution_count": 4,
   "id": "0b264fef-7949-4cc9-9faf-005ec14c70db",
   "metadata": {
    "jupyter": {
     "source_hidden": true
    }
   },
   "outputs": [
    {
     "name": "stdout",
     "output_type": "stream",
     "text": [
      "/home/alma\n"
     ]
    }
   ],
   "source": [
    "!pwd"
   ]
  },
  {
   "cell_type": "code",
   "execution_count": 13,
   "id": "ca15ee4f-6dd9-4cd3-b5df-c2343a510d22",
   "metadata": {},
   "outputs": [
    {
     "name": "stdout",
     "output_type": "stream",
     "text": [
      "/home/alma/rpg_simulator\n",
      "[master 836c4a5] 4日目\n",
      " 5 files changed, 36 insertions(+), 14 deletions(-)\n",
      " delete mode 100644 \"images/enemies/\\343\\202\\264\\343\\203\\274\\343\\203\\254\\343\\203\\240.png\"\n",
      "Enumerating objects: 15, done.\n",
      "Counting objects: 100% (15/15), done.\n",
      "Delta compression using up to 2 threads\n",
      "Compressing objects: 100% (8/8), done.\n",
      "Writing objects: 100% (8/8), 433.65 KiB | 2.42 MiB/s, done.\n",
      "Total 8 (delta 4), reused 0 (delta 0), pack-reused 0\n",
      "remote: Resolving deltas: 100% (4/4), completed with 4 local objects.\u001b[K\n",
      "remote: This repository moved. Please use the new location:\u001b[K\n",
      "remote:   git@github.com:katotomoyasu/Life.git\u001b[K\n",
      "To github.com:katotomoyasu/life.git\n",
      "   ca6da5e..836c4a5  master -> master\n"
     ]
    }
   ],
   "source": [
    "%cd /home/alma/rpg_simulator\n",
    "!git add .\n",
    "!git commit -m \"4日目\"\n",
    "!git push origin master"
   ]
  },
  {
   "cell_type": "code",
   "execution_count": 2,
   "id": "f6d939b4-e5a6-42c6-a995-0f93edd5644d",
   "metadata": {
    "collapsed": true,
    "jupyter": {
     "outputs_hidden": true
    }
   },
   "outputs": [
    {
     "name": "stdout",
     "output_type": "stream",
     "text": [
      "Defaulting to user installation because normal site-packages is not writeable\n",
      "Requirement already satisfied: gradient in ./.local/lib/python3.9/site-packages (2.0.6)\n",
      "Requirement already satisfied: requests[security] in /usr/local/lib/python3.9/site-packages (from gradient) (2.32.3)\n",
      "Requirement already satisfied: six in /usr/lib/python3.9/site-packages (from gradient) (1.15.0)\n",
      "Requirement already satisfied: click<9.0,>=8.0.1 in ./.local/lib/python3.9/site-packages (from gradient) (8.1.8)\n",
      "Requirement already satisfied: terminaltables in ./.local/lib/python3.9/site-packages (from gradient) (3.1.10)\n",
      "Requirement already satisfied: click-didyoumean in ./.local/lib/python3.9/site-packages (from gradient) (0.3.1)\n",
      "Requirement already satisfied: click-help-colors in ./.local/lib/python3.9/site-packages (from gradient) (0.9.4)\n",
      "Requirement already satisfied: click-completion in ./.local/lib/python3.9/site-packages (from gradient) (0.5.2)\n",
      "Requirement already satisfied: colorama==0.4.3 in ./.local/lib/python3.9/site-packages (from gradient) (0.4.3)\n",
      "Requirement already satisfied: requests-toolbelt in ./.local/lib/python3.9/site-packages (from gradient) (1.0.0)\n",
      "Requirement already satisfied: progressbar2 in ./.local/lib/python3.9/site-packages (from gradient) (4.5.0)\n",
      "Requirement already satisfied: halo in ./.local/lib/python3.9/site-packages (from gradient) (0.0.31)\n",
      "Requirement already satisfied: marshmallow<3.0 in ./.local/lib/python3.9/site-packages (from gradient) (2.21.0)\n",
      "Requirement already satisfied: attrs<=19 in ./.local/lib/python3.9/site-packages (from gradient) (18.2.0)\n",
      "Requirement already satisfied: PyYAML==5.* in /usr/lib64/python3.9/site-packages (from gradient) (5.4.1)\n",
      "Requirement already satisfied: python-dateutil==2.* in /usr/local/lib/python3.9/site-packages (from gradient) (2.9.0.post0)\n",
      "Requirement already satisfied: websocket-client==0.57.* in ./.local/lib/python3.9/site-packages (from gradient) (0.57.0)\n",
      "Requirement already satisfied: gradient-utils>=0.1.2 in ./.local/lib/python3.9/site-packages (from gradient) (0.5.0)\n",
      "Requirement already satisfied: gql==3.0.0a6 in ./.local/lib/python3.9/site-packages (from gql[requests]==3.0.0a6->gradient) (3.0.0a6)\n",
      "Requirement already satisfied: graphql-core<3.2,>=3.1.5 in ./.local/lib/python3.9/site-packages (from gql==3.0.0a6->gql[requests]==3.0.0a6->gradient) (3.1.7)\n",
      "Requirement already satisfied: yarl<2.0,>=1.6 in ./.local/lib/python3.9/site-packages (from gql==3.0.0a6->gql[requests]==3.0.0a6->gradient) (1.18.3)\n",
      "Requirement already satisfied: prometheus-client<0.10,>=0.8 in ./.local/lib/python3.9/site-packages (from gradient-utils>=0.1.2->gradient) (0.9.0)\n",
      "Requirement already satisfied: pymongo<4.0.0,>=3.11.0 in ./.local/lib/python3.9/site-packages (from gradient-utils>=0.1.2->gradient) (3.13.0)\n",
      "Requirement already satisfied: wheel<0.36.0,>=0.35.1 in ./.local/lib/python3.9/site-packages (from gradient-utils>=0.1.2->gradient) (0.35.1)\n",
      "Requirement already satisfied: jinja2 in /usr/local/lib/python3.9/site-packages (from click-completion->gradient) (3.1.5)\n",
      "Requirement already satisfied: shellingham in ./.local/lib/python3.9/site-packages (from click-completion->gradient) (1.5.4)\n",
      "Requirement already satisfied: log_symbols>=0.0.14 in ./.local/lib/python3.9/site-packages (from halo->gradient) (0.0.14)\n",
      "Requirement already satisfied: spinners>=0.0.24 in ./.local/lib/python3.9/site-packages (from halo->gradient) (0.0.24)\n",
      "Requirement already satisfied: termcolor>=1.1.0 in ./.local/lib/python3.9/site-packages (from halo->gradient) (2.5.0)\n",
      "Requirement already satisfied: python-utils>=3.8.1 in ./.local/lib/python3.9/site-packages (from progressbar2->gradient) (3.9.1)\n",
      "Requirement already satisfied: charset-normalizer<4,>=2 in /usr/local/lib64/python3.9/site-packages (from requests[security]->gradient) (3.4.1)\n",
      "Requirement already satisfied: idna<4,>=2.5 in /usr/lib/python3.9/site-packages (from requests[security]->gradient) (2.10)\n",
      "Requirement already satisfied: urllib3<3,>=1.21.1 in /usr/lib/python3.9/site-packages (from requests[security]->gradient) (1.26.5)\n",
      "Requirement already satisfied: certifi>=2017.4.17 in ./.local/lib/python3.9/site-packages (from requests[security]->gradient) (2024.12.14)\n",
      "Requirement already satisfied: typing_extensions>3.10.0.2 in /usr/local/lib/python3.9/site-packages (from python-utils>=3.8.1->progressbar2->gradient) (4.12.2)\n",
      "Requirement already satisfied: multidict>=4.0 in ./.local/lib/python3.9/site-packages (from yarl<2.0,>=1.6->gql==3.0.0a6->gql[requests]==3.0.0a6->gradient) (6.1.0)\n",
      "Requirement already satisfied: propcache>=0.2.0 in ./.local/lib/python3.9/site-packages (from yarl<2.0,>=1.6->gql==3.0.0a6->gql[requests]==3.0.0a6->gradient) (0.2.1)\n",
      "Requirement already satisfied: MarkupSafe>=2.0 in /usr/local/lib64/python3.9/site-packages (from jinja2->click-completion->gradient) (3.0.2)\n",
      "Note: you may need to restart the kernel to use updated packages.\n"
     ]
    }
   ],
   "source": [
    "pip install --upgrade gradient\n"
   ]
  },
  {
   "cell_type": "code",
   "execution_count": 2,
   "id": "abbe1949-5df0-44ab-84e6-8ee656da0440",
   "metadata": {
    "collapsed": true,
    "jupyter": {
     "outputs_hidden": true,
     "source_hidden": true
    }
   },
   "outputs": [
    {
     "name": "stdout",
     "output_type": "stream",
     "text": [
      "['ApiTypes', 'ArchiveUploadError', 'Artifact', 'BILLING_TYPES', 'BuiltinMetrics', 'CheckMachineAvailability', 'Cluster', 'ClustersClient', 'CreateDataset', 'CreateDatasetVersion', 'CreateMachine', 'CreateModel', 'CreateNotebook', 'CreateProject', 'CreateResource', 'CreateStorageProvider', 'CreateWorkflow', 'CreateWorkflowRun', 'DATASET_VOLUME_KINDS', 'DEPLOYMENT_TYPES_MAP', 'Dataset', 'DatasetRef', 'DatasetTag', 'DatasetTagsClient', 'DatasetVersion', 'DatasetVersionPreSignedS3Call', 'DatasetVersionPreSignedURL', 'DatasetVersionSummary', 'DatasetVersionTagSummary', 'DatasetVersionsClient', 'DatasetVolumeKinds', 'DatasetsClient', 'DeleteDataset', 'DeleteDatasetTag', 'DeleteDatasetVersion', 'DeleteModel', 'DeleteNotebook', 'DeleteProject', 'DeleteSecret', 'DeleteStorageProvider', 'DeploymentState', 'EndWebsocketStream', 'EphemeralSecret', 'ExperimentState', 'ExperimentType', 'ForkNotebook', 'GenerateDatasetVersionPreSignedS3Urls', 'GetDataset', 'GetDatasetRef', 'GetDatasetTag', 'GetDatasetVersion', 'GetMachine', 'GetMachineUtilization', 'GetModel', 'GetNotebook', 'GetNotebookMetrics', 'GetProject', 'GetStorageProvider', 'GetWorkflow', 'GetWorkflowRun', 'GradientSdkError', 'InvalidParametersError', 'ListClusters', 'ListDatasetTags', 'ListDatasetVersions', 'ListDatasets', 'ListMachineTypes', 'ListModelFiles', 'ListModels', 'ListNotebookArtifacts', 'ListNotebookLogs', 'ListNotebookMetrics', 'ListNotebooks', 'ListProjects', 'ListSecrets', 'ListStorageProviders', 'ListWorkflowLogs', 'ListWorkflowRuns', 'ListWorkflows', 'LogRow', 'MACHINE_TYPES', 'METRICS_MAP', 'MODEL_TYPES_MAP', 'MULTI_NODE_EXPERIMENT_TYPES_MAP', 'Machine', 'MachineEvent', 'MachineTypesClient', 'MachineUtilization', 'MachinesClient', 'MalformedResponseError', 'MetricsLogger', 'Model', 'ModelFile', 'ModelTypes', 'ModelsClient', 'Notebook', 'NotebookStart', 'NotebooksClient', 'Pagination', 'PresignedUrlAccessDeniedError', 'PresignedUrlConnectionError', 'PresignedUrlError', 'PresignedUrlMalformedResponseError', 'PresignedUrlUnreachableError', 'Project', 'ProjectAccessDeniedError', 'ProjectsClient', 'ReceivingDataFailedError', 'Region', 'ResourceCreatingDataError', 'ResourceCreatingError', 'ResourceFetchingError', 'RestartMachine', 'RunMode', 'S3UploadFailedError', 'SdkClient', 'Secret', 'SecretsClient', 'SetDatasetTag', 'SetSecret', 'StartMachine', 'StartNotebook', 'StopMachine', 'StopNotebook', 'StorageProvider', 'StorageProvidersClient', 'StreamNotebookMetrics', 'Tag', 'UpdateDataset', 'UpdateDatasetVersion', 'UpdateMachine', 'UpdateStorageProvider', 'UploadModel', 'VmType', 'VmTypeGpuModel', 'Workflow', 'WorkflowRun', 'WorkflowSpec', 'WorkflowsClient', 'WrongPathError', 'ZipArchiver', '__builtins__', '__cached__', '__doc__', '__file__', '__loader__', '__name__', '__package__', '__path__', '__spec__', '__version__', 'add_metrics', 'api_sdk', 'archivers', 'artifact', 'base_client', 'clients', 'cluster', 'clusters', 'collections', 'common', 'config', 'constants', 'create_deployment', 'data_dir', 'dataset', 'dataset_client', 'dataset_tag', 'dataset_tag_client', 'dataset_tags', 'dataset_version', 'dataset_version_client', 'dataset_versions', 'datasets', 'delete_deployment', 'exceptions', 'export_dir', 'get_deployment', 'get_deployment_logs', 'get_model_usage', 'get_mongo_conn_str', 'get_tf_config', 'gradient_deployments', 'graphql', 'http_client', 'job_name', 'list_deployments', 'log', 'logger', 'machine', 'machine_types', 'machine_types_client', 'machines', 'machines_client', 'model', 'model_client', 'model_dir', 'models', 'notebook', 'notebook_client', 'notebooks', 'pagination', 'project', 'project_client', 'projects', 'ps_hosts', 'repositories', 's3_uploader', 'sdk_client', 'sdk_exceptions', 'secret', 'secret_client', 'secrets', 'serializers', 'storage_provider', 'storage_provider_client', 'storage_providers', 'tag', 'tags', 'task_index', 'update_deployment', 'utils', 'version', 'vm_type', 'worker_hosts', 'workflow_client', 'workflows', 'yield_deployment_logs']\n"
     ]
    }
   ],
   "source": [
    "import gradient\n",
    "print(dir(gradient))"
   ]
  },
  {
   "cell_type": "code",
   "execution_count": 22,
   "id": "cf97b790-17c0-4c2e-8f6e-ba57ad4c5df2",
   "metadata": {
    "collapsed": true,
    "jupyter": {
     "outputs_hidden": true,
     "source_hidden": true
    }
   },
   "outputs": [
    {
     "name": "stdout",
     "output_type": "stream",
     "text": [
      "Project Name: gaus-ganymede, ID: p6uxy0xclgh\n",
      "Project Name: vesta-dropout, ID: pfgk9ewmvn8\n",
      "Project Name: maxout-earth, ID: po5hc48kyoj\n"
     ]
    }
   ],
   "source": [
    "from gradient import SdkClient\n",
    "\n",
    "# クライアントの初期化\n",
    "api = SdkClient(\n",
    "    api_key=\"c0a09af6c09711acecaff15f1a491b\"  # Paperspace/GradientのAPIキー\n",
    ")\n",
    "# プロジェクトの一覧を表示\n",
    "projects = api.projects.list()\n",
    "for project in projects:\n",
    "    print(f\"Project Name: {project.name}, ID: {project.id}\")"
   ]
  },
  {
   "cell_type": "code",
   "execution_count": 21,
   "id": "3c1c7114-88df-4ede-be7d-9ed9f5c008eb",
   "metadata": {
    "collapsed": true,
    "jupyter": {
     "outputs_hidden": true,
     "source_hidden": true
    }
   },
   "outputs": [
    {
     "name": "stdout",
     "output_type": "stream",
     "text": [
      "Project Details:\n",
      "Name: maxout-earth\n",
      "ID: po5hc48kyoj\n",
      "Repository Name: None\n"
     ]
    },
    {
     "ename": "AttributeError",
     "evalue": "'Project' object has no attribute 'dt_created'",
     "output_type": "error",
     "traceback": [
      "\u001b[0;31m---------------------------------------------------------------------------\u001b[0m",
      "\u001b[0;31mAttributeError\u001b[0m                            Traceback (most recent call last)",
      "Cell \u001b[0;32mIn[21], line 7\u001b[0m\n\u001b[1;32m      5\u001b[0m \u001b[38;5;28mprint\u001b[39m(\u001b[38;5;124mf\u001b[39m\u001b[38;5;124m\"\u001b[39m\u001b[38;5;124mID: \u001b[39m\u001b[38;5;132;01m{\u001b[39;00mproject_details\u001b[38;5;241m.\u001b[39mid\u001b[38;5;132;01m}\u001b[39;00m\u001b[38;5;124m\"\u001b[39m)\n\u001b[1;32m      6\u001b[0m \u001b[38;5;28mprint\u001b[39m(\u001b[38;5;124mf\u001b[39m\u001b[38;5;124m\"\u001b[39m\u001b[38;5;124mRepository Name: \u001b[39m\u001b[38;5;132;01m{\u001b[39;00mproject_details\u001b[38;5;241m.\u001b[39mrepository_name\u001b[38;5;132;01m}\u001b[39;00m\u001b[38;5;124m\"\u001b[39m)\n\u001b[0;32m----> 7\u001b[0m \u001b[38;5;28mprint\u001b[39m(\u001b[38;5;124mf\u001b[39m\u001b[38;5;124m\"\u001b[39m\u001b[38;5;124mCreated: \u001b[39m\u001b[38;5;132;01m{\u001b[39;00mproject_details\u001b[38;5;241m.\u001b[39mdt_created\u001b[38;5;132;01m}\u001b[39;00m\u001b[38;5;124m\"\u001b[39m)\n\u001b[1;32m      9\u001b[0m \u001b[38;5;66;03m# プロジェクト内のノートブックも確認\u001b[39;00m\n\u001b[1;32m     10\u001b[0m notebooks \u001b[38;5;241m=\u001b[39m api\u001b[38;5;241m.\u001b[39mnotebooks\u001b[38;5;241m.\u001b[39mlist(project_id\u001b[38;5;241m=\u001b[39m\u001b[38;5;124m\"\u001b[39m\u001b[38;5;124mpo5hc48kyoj\u001b[39m\u001b[38;5;124m\"\u001b[39m)\n",
      "\u001b[0;31mAttributeError\u001b[0m: 'Project' object has no attribute 'dt_created'"
     ]
    }
   ],
   "source": [
    "# maxout-earthプロジェクトの詳細を取得\n",
    "project_details = api.projects.get(project_id=\"po5hc48kyoj\")\n",
    "print(f\"Project Details:\")\n",
    "print(f\"Name: {project_details.name}\")\n",
    "print(f\"ID: {project_details.id}\")\n",
    "print(f\"Repository Name: {project_details.repository_name}\")\n",
    "print(f\"Created: {project_details.dt_created}\")\n",
    "\n",
    "# プロジェクト内のノートブックも確認\n",
    "notebooks = api.notebooks.list(project_id=\"po5hc48kyoj\")\n",
    "for notebook in notebooks:\n",
    "    print(f\"\\nNotebook Details:\")\n",
    "    print(f\"Name: {notebook.name}\")\n",
    "    print(f\"ID: {notebook.id}\")\n",
    "    print(f\"Status: {notebook.state}\")"
   ]
  },
  {
   "cell_type": "code",
   "execution_count": 16,
   "id": "32147191-7842-440a-8693-b82665f8f5dc",
   "metadata": {
    "jupyter": {
     "source_hidden": true
    }
   },
   "outputs": [
    {
     "name": "stdout",
     "output_type": "stream",
     "text": [
      "利用可能な属性:\n",
      "created: 2023-08-20 06:44:27.800000+00:00\n",
      "id: po5hc48kyoj\n",
      "name: maxout-earth\n",
      "repository_name: None\n",
      "repository_url: None\n",
      "tags: []\n"
     ]
    }
   ],
   "source": [
    "# 利用可能な属性を確認\n",
    "project_details = api.projects.get(project_id=\"po5hc48kyoj\")\n",
    "print(\"利用可能な属性:\")\n",
    "for attr in dir(project_details):\n",
    "    # アンダースコアで始まらない属性のみを表示（内部属性を除外）\n",
    "    if not attr.startswith('_'):\n",
    "        try:\n",
    "            value = getattr(project_details, attr)\n",
    "            print(f\"{attr}: {value}\")\n",
    "        except:\n",
    "            print(f\"{attr}: <取得できません>\")"
   ]
  },
  {
   "cell_type": "code",
   "execution_count": 14,
   "id": "4775d5a1-ab79-47f0-963c-f0a6f10cb622",
   "metadata": {
    "collapsed": true,
    "jupyter": {
     "outputs_hidden": true,
     "source_hidden": true
    }
   },
   "outputs": [
    {
     "name": "stdout",
     "output_type": "stream",
     "text": [
      "ノートブックの取得中にエラーが発生: 'NoneType' object is not iterable\n",
      "\n",
      "利用可能なメソッド:\n",
      "add_tags\n",
      "api_key\n",
      "artifacts_list\n",
      "build_repository\n",
      "create\n",
      "delete\n",
      "diff_tags\n",
      "entity\n",
      "fork\n",
      "get\n",
      "get_metrics\n",
      "list\n",
      "list_metrics\n",
      "list_tags\n",
      "logger\n",
      "logs\n",
      "merge_tags\n",
      "ps_client_name\n",
      "remove_tags\n",
      "start\n",
      "stop\n",
      "stream_metrics\n",
      "yield_logs\n"
     ]
    }
   ],
   "source": [
    "# プロジェクトに関連するノートブックを取得\n",
    "try:\n",
    "    notebooks = api.notebooks.list()\n",
    "    for notebook in notebooks:\n",
    "        if notebook.project_id == \"po5hc48kyoj\":\n",
    "            print(f\"\\nNotebook Details:\")\n",
    "            print(f\"Name: {notebook.name}\")\n",
    "            print(f\"State: {notebook.state}\")\n",
    "except Exception as e:\n",
    "    print(f\"ノートブックの取得中にエラーが発生: {e}\")\n",
    "\n",
    "# 利用可能なAPIメソッドを確認\n",
    "print(\"\\n利用可能なメソッド:\")\n",
    "for method in dir(api.notebooks):\n",
    "    if not method.startswith('_'):\n",
    "        print(method)"
   ]
  },
  {
   "cell_type": "code",
   "execution_count": 26,
   "id": "225c824c-8935-4947-890c-7f39359a6c30",
   "metadata": {
    "collapsed": true,
    "jupyter": {
     "outputs_hidden": true,
     "source_hidden": true
    }
   },
   "outputs": [
    {
     "name": "stdout",
     "output_type": "stream",
     "text": [
      "Available methods in api:\n",
      "['clusters', 'dataset_tags', 'dataset_versions', 'datasets', 'machine_types', 'machines', 'models', 'notebooks', 'projects', 'secrets', 'storage_providers', 'workflows']\n",
      "\n",
      "Project methods:\n",
      "['add_tags', 'api_key', 'build_repository', 'create', 'delete', 'diff_tags', 'entity', 'get', 'list', 'list_tags', 'logger', 'merge_tags', 'ps_client_name', 'remove_tags']\n"
     ]
    }
   ],
   "source": [
    "from gradient import SdkClient\n",
    "\n",
    "# 現在のAPIクライアントのメソッドを確認\n",
    "print(\"Available methods in api:\")\n",
    "print([method for method in dir(api) if not method.startswith('_')])\n",
    "\n",
    "# projectsは動作することが確認できているので、その構造も確認\n",
    "print(\"\\nProject methods:\")\n",
    "print([method for method in dir(api.projects) if not method.startswith('_')])"
   ]
  },
  {
   "cell_type": "code",
   "execution_count": 27,
   "id": "cc4c08f6-08d7-414e-b5d6-933b7acc3ad8",
   "metadata": {
    "collapsed": true,
    "jupyter": {
     "outputs_hidden": true,
     "source_hidden": true
    }
   },
   "outputs": [
    {
     "name": "stdout",
     "output_type": "stream",
     "text": [
      "Available machine types:\n",
      "Machine type: VmType(label='A100', kind='a100', cpu_count=12, ram_in_bytes=96636764160, gpu_count=1, gpu_model=VmTypeGpuModel(label='Ampere A100', model='passthrough', memory_in_bytes=42949672960), is_preemptible=False, deployment_type='gpu', deployment_size='xlarge5', clusters=['clg07azjl'])\n",
      "Machine type: VmType(label='A100-80G', kind='a100-80g', cpu_count=12, ram_in_bytes=96636764160, gpu_count=1, gpu_model=VmTypeGpuModel(label='Ampere A100 80G', model='passthrough', memory_in_bytes=85899345920), is_preemptible=False, deployment_type='gpu', deployment_size='xlarge5a', clusters=['clg07azjl'])\n",
      "Machine type: VmType(label='A4000', kind='a4000', cpu_count=8, ram_in_bytes=48318382080, gpu_count=1, gpu_model=VmTypeGpuModel(label='Ampere A4000', model='passthrough', memory_in_bytes=17179869184), is_preemptible=False, deployment_type='gpu', deployment_size='small5', clusters=['clg07azjl'])\n",
      "Machine type: VmType(label='A4000x2', kind='a4000', cpu_count=16, ram_in_bytes=96636764160, gpu_count=2, gpu_model=VmTypeGpuModel(label='Ampere A4000', model='passthrough', memory_in_bytes=17179869184), is_preemptible=False, deployment_type='gpu', deployment_size='small5x2', clusters=['clg07azjl'])\n",
      "Machine type: VmType(label='A5000', kind='a5000', cpu_count=8, ram_in_bytes=48318382080, gpu_count=1, gpu_model=VmTypeGpuModel(label='Ampere A5000', model='passthrough', memory_in_bytes=25769803776), is_preemptible=False, deployment_type='gpu', deployment_size='medium5', clusters=['clg07azjl'])\n",
      "Machine type: VmType(label='A5000x2', kind='a5000', cpu_count=16, ram_in_bytes=96636764160, gpu_count=2, gpu_model=VmTypeGpuModel(label='Ampere A5000', model='passthrough', memory_in_bytes=25769803776), is_preemptible=False, deployment_type='gpu', deployment_size='medium5x2', clusters=['clg07azjl'])\n",
      "Machine type: VmType(label='A6000', kind='a6000', cpu_count=8, ram_in_bytes=48318382080, gpu_count=1, gpu_model=VmTypeGpuModel(label='Ampere A6000', model='passthrough', memory_in_bytes=51539607552), is_preemptible=False, deployment_type='gpu', deployment_size='large5', clusters=['clg07azjl'])\n",
      "Machine type: VmType(label='A6000x2', kind='a6000', cpu_count=16, ram_in_bytes=96636764160, gpu_count=2, gpu_model=VmTypeGpuModel(label='Ampere A6000', model='passthrough', memory_in_bytes=51539607552), is_preemptible=False, deployment_type='gpu', deployment_size='large5x2', clusters=['clg07azjl'])\n",
      "Machine type: VmType(label='C4', kind='cpu', cpu_count=2, ram_in_bytes=4294967296, gpu_count=0, gpu_model=None, is_preemptible=False, deployment_type='cpu', deployment_size='tiny2', clusters=['clg07azjl'])\n",
      "Machine type: VmType(label='C5', kind='cpu', cpu_count=4, ram_in_bytes=8589934592, gpu_count=0, gpu_model=None, is_preemptible=False, deployment_type='cpu', deployment_size='small', clusters=['clg07azjl'])\n",
      "Machine type: VmType(label='C7', kind='cpu', cpu_count=12, ram_in_bytes=32212254720, gpu_count=0, gpu_model=None, is_preemptible=False, deployment_type='cpu', deployment_size='medium', clusters=['clg07azjl'])\n",
      "Machine type: VmType(label='Free-A4000', kind='free-a4000', cpu_count=8, ram_in_bytes=48318382080, gpu_count=1, gpu_model=VmTypeGpuModel(label='Ampere A4000', model='passthrough', memory_in_bytes=17179869184), is_preemptible=False, deployment_type='gpu', deployment_size='freesmall5', clusters=['clg07azjl'])\n",
      "Machine type: VmType(label='Free-A5000', kind='free-a5000', cpu_count=8, ram_in_bytes=48318382080, gpu_count=1, gpu_model=VmTypeGpuModel(label='Ampere A5000', model='passthrough', memory_in_bytes=25769803776), is_preemptible=False, deployment_type='gpu', deployment_size='freemedium5', clusters=['clg07azjl'])\n",
      "Machine type: VmType(label='Free-A6000', kind='free-a6000', cpu_count=8, ram_in_bytes=48318382080, gpu_count=1, gpu_model=VmTypeGpuModel(label='Ampere A6000', model='passthrough', memory_in_bytes=51539607552), is_preemptible=False, deployment_type='gpu', deployment_size='freelarge5', clusters=['clg07azjl'])\n",
      "Machine type: VmType(label='Free-P5000', kind='free-p5000', cpu_count=8, ram_in_bytes=32212254720, gpu_count=1, gpu_model=VmTypeGpuModel(label='Quadro P5000', model='passthrough', memory_in_bytes=17179869184), is_preemptible=False, deployment_type='gpu', deployment_size='freemedium2', clusters=['clg07azjl'])\n",
      "Machine type: VmType(label='Free-RTX4000', kind='free-rtx4000', cpu_count=8, ram_in_bytes=32212254720, gpu_count=1, gpu_model=VmTypeGpuModel(label='Quadro RTX4000', model='passthrough', memory_in_bytes=8589934592), is_preemptible=False, deployment_type='gpu', deployment_size='freesmall4', clusters=['clg07azjl'])\n",
      "Machine type: VmType(label='Free-RTX5000', kind='free-rtx5000', cpu_count=8, ram_in_bytes=32212254720, gpu_count=1, gpu_model=VmTypeGpuModel(label='Quadro RTX5000', model='passthrough', memory_in_bytes=17179869184), is_preemptible=False, deployment_type='gpu', deployment_size='freemedium4', clusters=['clg07azjl'])\n",
      "Machine type: VmType(label='P4000', kind='p4000', cpu_count=8, ram_in_bytes=32212254720, gpu_count=1, gpu_model=VmTypeGpuModel(label='Quadro P4000', model='passthrough', memory_in_bytes=8589934592), is_preemptible=False, deployment_type='gpu', deployment_size='small', clusters=['clg07azjl'])\n",
      "Machine type: VmType(label='P5000', kind='p5000', cpu_count=8, ram_in_bytes=32212254720, gpu_count=1, gpu_model=VmTypeGpuModel(label='Quadro P5000', model='passthrough', memory_in_bytes=17179869184), is_preemptible=False, deployment_type='gpu', deployment_size='medium', clusters=['clg07azjl'])\n",
      "Machine type: VmType(label='P6000', kind='p6000', cpu_count=8, ram_in_bytes=32212254720, gpu_count=1, gpu_model=VmTypeGpuModel(label='Quadro P6000', model='passthrough', memory_in_bytes=25769803776), is_preemptible=False, deployment_type='gpu', deployment_size='p6000', clusters=['clg07azjl'])\n",
      "Machine type: VmType(label='RTX4000', kind='rtx4000', cpu_count=8, ram_in_bytes=32212254720, gpu_count=1, gpu_model=VmTypeGpuModel(label='Quadro RTX4000', model='passthrough', memory_in_bytes=8589934592), is_preemptible=False, deployment_type='gpu', deployment_size='small4', clusters=['clg07azjl'])\n",
      "Machine type: VmType(label='V100', kind='v100', cpu_count=8, ram_in_bytes=32212254720, gpu_count=1, gpu_model=VmTypeGpuModel(label='Tesla V100', model='passthrough', memory_in_bytes=17179869184), is_preemptible=False, deployment_type='gpu', deployment_size='large', clusters=['clg07azjl'])\n",
      "Machine type: VmType(label='V100-32G', kind='v100-32g', cpu_count=8, ram_in_bytes=32212254720, gpu_count=1, gpu_model=VmTypeGpuModel(label='Tesla V100 32G', model='passthrough', memory_in_bytes=34359738368), is_preemptible=False, deployment_type='gpu', deployment_size='large2', clusters=['clg07azjl'])\n",
      "\n",
      "Error: create() got an unexpected keyword argument 'project_id'\n"
     ]
    }
   ],
   "source": [
    "# まず利用可能なマシンタイプを確認\n",
    "print(\"Available machine types:\")\n",
    "machine_types = api.machine_types.list()\n",
    "for m in machine_types:\n",
    "    print(f\"Machine type: {m.name if hasattr(m, 'name') else m}\")\n",
    "\n",
    "# マシンの作成を試みる\n",
    "try:\n",
    "    machine = api.machines.create(\n",
    "        name=\"gpu-test\",\n",
    "        project_id=\"po5hc48kyoj\",\n",
    "        machine_type=\"Free-A4000\",\n",
    "        template_id=\"t123\",  # これは仮の値です\n",
    "        script=test_script\n",
    "    )\n",
    "    print(\"\\nCreated machine:\", machine)\n",
    "    \n",
    "    # マシンの状態を確認\n",
    "    machine_status = api.machines.get(machine.id)\n",
    "    print(\"Machine status:\", machine_status.state if hasattr(machine_status, 'state') else machine_status)\n",
    "    \n",
    "except Exception as e:\n",
    "    print(\"\\nError:\", str(e))"
   ]
  },
  {
   "cell_type": "code",
   "execution_count": 31,
   "id": "416c434c-275e-43e1-93de-40e70de131f1",
   "metadata": {
    "collapsed": true,
    "jupyter": {
     "outputs_hidden": true,
     "source_hidden": true
    }
   },
   "outputs": [
    {
     "name": "stdout",
     "output_type": "stream",
     "text": [
      "['ApiTypes', 'ArchiveUploadError', 'Artifact', 'BILLING_TYPES', 'BuiltinMetrics', 'CheckMachineAvailability', 'Cluster', 'ClustersClient', 'CreateDataset', 'CreateDatasetVersion', 'CreateMachine', 'CreateModel', 'CreateNotebook', 'CreateProject', 'CreateResource', 'CreateStorageProvider', 'CreateWorkflow', 'CreateWorkflowRun', 'DATASET_VOLUME_KINDS', 'DEPLOYMENT_TYPES_MAP', 'Dataset', 'DatasetRef', 'DatasetTag', 'DatasetTagsClient', 'DatasetVersion', 'DatasetVersionPreSignedS3Call', 'DatasetVersionPreSignedURL', 'DatasetVersionSummary', 'DatasetVersionTagSummary', 'DatasetVersionsClient', 'DatasetVolumeKinds', 'DatasetsClient', 'DeleteDataset', 'DeleteDatasetTag', 'DeleteDatasetVersion', 'DeleteModel', 'DeleteNotebook', 'DeleteProject', 'DeleteSecret', 'DeleteStorageProvider', 'DeploymentState', 'EndWebsocketStream', 'EphemeralSecret', 'ExperimentState', 'ExperimentType', 'ForkNotebook', 'GenerateDatasetVersionPreSignedS3Urls', 'GetDataset', 'GetDatasetRef', 'GetDatasetTag', 'GetDatasetVersion', 'GetMachine', 'GetMachineUtilization', 'GetModel', 'GetNotebook', 'GetNotebookMetrics', 'GetProject', 'GetStorageProvider', 'GetWorkflow', 'GetWorkflowRun', 'GradientSdkError', 'InvalidParametersError', 'ListClusters', 'ListDatasetTags', 'ListDatasetVersions', 'ListDatasets', 'ListMachineTypes', 'ListModelFiles', 'ListModels', 'ListNotebookArtifacts', 'ListNotebookLogs', 'ListNotebookMetrics', 'ListNotebooks', 'ListProjects', 'ListSecrets', 'ListStorageProviders', 'ListWorkflowLogs', 'ListWorkflowRuns', 'ListWorkflows', 'LogRow', 'MACHINE_TYPES', 'METRICS_MAP', 'MODEL_TYPES_MAP', 'MULTI_NODE_EXPERIMENT_TYPES_MAP', 'Machine', 'MachineEvent', 'MachineTypesClient', 'MachineUtilization', 'MachinesClient', 'MalformedResponseError', 'MetricsLogger', 'Model', 'ModelFile', 'ModelTypes', 'ModelsClient', 'Notebook', 'NotebookStart', 'NotebooksClient', 'Pagination', 'PresignedUrlAccessDeniedError', 'PresignedUrlConnectionError', 'PresignedUrlError', 'PresignedUrlMalformedResponseError', 'PresignedUrlUnreachableError', 'Project', 'ProjectAccessDeniedError', 'ProjectsClient', 'ReceivingDataFailedError', 'Region', 'ResourceCreatingDataError', 'ResourceCreatingError', 'ResourceFetchingError', 'RestartMachine', 'RunMode', 'S3UploadFailedError', 'SdkClient', 'Secret', 'SecretsClient', 'SetDatasetTag', 'SetSecret', 'StartMachine', 'StartNotebook', 'StopMachine', 'StopNotebook', 'StorageProvider', 'StorageProvidersClient', 'StreamNotebookMetrics', 'Tag', 'UpdateDataset', 'UpdateDatasetVersion', 'UpdateMachine', 'UpdateStorageProvider', 'UploadModel', 'VmType', 'VmTypeGpuModel', 'Workflow', 'WorkflowRun', 'WorkflowSpec', 'WorkflowsClient', 'WrongPathError', 'ZipArchiver', '__builtins__', '__cached__', '__doc__', '__file__', '__loader__', '__name__', '__package__', '__path__', '__spec__', '__version__', 'add_metrics', 'api_sdk', 'archivers', 'artifact', 'base_client', 'clients', 'cluster', 'clusters', 'collections', 'common', 'config', 'constants', 'create_deployment', 'data_dir', 'dataset', 'dataset_client', 'dataset_tag', 'dataset_tag_client', 'dataset_tags', 'dataset_version', 'dataset_version_client', 'dataset_versions', 'datasets', 'delete_deployment', 'exceptions', 'export_dir', 'get_deployment', 'get_deployment_logs', 'get_model_usage', 'get_mongo_conn_str', 'get_tf_config', 'gradient_deployments', 'graphql', 'http_client', 'job_name', 'list_deployments', 'log', 'logger', 'machine', 'machine_types', 'machine_types_client', 'machines', 'machines_client', 'model', 'model_client', 'model_dir', 'models', 'notebook', 'notebook_client', 'notebooks', 'pagination', 'project', 'project_client', 'projects', 'ps_hosts', 'repositories', 's3_uploader', 'sdk_client', 'sdk_exceptions', 'secret', 'secret_client', 'secrets', 'serializers', 'storage_provider', 'storage_provider_client', 'storage_providers', 'tag', 'tags', 'task_index', 'update_deployment', 'utils', 'version', 'vm_type', 'worker_hosts', 'workflow_client', 'workflows', 'yield_deployment_logs']\n",
      "['ApiTypes', 'ArchiveUploadError', 'Artifact', 'BILLING_TYPES', 'BuiltinMetrics', 'CheckMachineAvailability', 'Cluster', 'ClustersClient', 'CreateDataset', 'CreateDatasetVersion', 'CreateMachine', 'CreateModel', 'CreateNotebook', 'CreateProject', 'CreateResource', 'CreateStorageProvider', 'CreateWorkflow', 'CreateWorkflowRun', 'DATASET_VOLUME_KINDS', 'DEPLOYMENT_TYPES_MAP', 'Dataset', 'DatasetRef', 'DatasetTag', 'DatasetTagsClient', 'DatasetVersion', 'DatasetVersionPreSignedS3Call', 'DatasetVersionPreSignedURL', 'DatasetVersionSummary', 'DatasetVersionTagSummary', 'DatasetVersionsClient', 'DatasetVolumeKinds', 'DatasetsClient', 'DeleteDataset', 'DeleteDatasetTag', 'DeleteDatasetVersion', 'DeleteModel', 'DeleteNotebook', 'DeleteProject', 'DeleteSecret', 'DeleteStorageProvider', 'DeploymentState', 'EndWebsocketStream', 'EphemeralSecret', 'ExperimentState', 'ExperimentType', 'ForkNotebook', 'GenerateDatasetVersionPreSignedS3Urls', 'GetDataset', 'GetDatasetRef', 'GetDatasetTag', 'GetDatasetVersion', 'GetMachine', 'GetMachineUtilization', 'GetModel', 'GetNotebook', 'GetNotebookMetrics', 'GetProject', 'GetStorageProvider', 'GetWorkflow', 'GetWorkflowRun', 'GradientSdkError', 'InvalidParametersError', 'ListClusters', 'ListDatasetTags', 'ListDatasetVersions', 'ListDatasets', 'ListMachineTypes', 'ListModelFiles', 'ListModels', 'ListNotebookArtifacts', 'ListNotebookLogs', 'ListNotebookMetrics', 'ListNotebooks', 'ListProjects', 'ListSecrets', 'ListStorageProviders', 'ListWorkflowLogs', 'ListWorkflowRuns', 'ListWorkflows', 'LogRow', 'MACHINE_TYPES', 'METRICS_MAP', 'MODEL_TYPES_MAP', 'MULTI_NODE_EXPERIMENT_TYPES_MAP', 'Machine', 'MachineEvent', 'MachineTypesClient', 'MachineUtilization', 'MachinesClient', 'MalformedResponseError', 'Model', 'ModelFile', 'ModelTypes', 'ModelsClient', 'Notebook', 'NotebookStart', 'NotebooksClient', 'Pagination', 'PresignedUrlAccessDeniedError', 'PresignedUrlConnectionError', 'PresignedUrlError', 'PresignedUrlMalformedResponseError', 'PresignedUrlUnreachableError', 'Project', 'ProjectAccessDeniedError', 'ProjectsClient', 'ReceivingDataFailedError', 'Region', 'ResourceCreatingDataError', 'ResourceCreatingError', 'ResourceFetchingError', 'RestartMachine', 'RunMode', 'S3UploadFailedError', 'SdkClient', 'Secret', 'SecretsClient', 'SetDatasetTag', 'SetSecret', 'StartMachine', 'StartNotebook', 'StopMachine', 'StopNotebook', 'StorageProvider', 'StorageProvidersClient', 'StreamNotebookMetrics', 'Tag', 'UpdateDataset', 'UpdateDatasetVersion', 'UpdateMachine', 'UpdateStorageProvider', 'UploadModel', 'VmType', 'VmTypeGpuModel', 'Workflow', 'WorkflowRun', 'WorkflowSpec', 'WorkflowsClient', 'WrongPathError', 'ZipArchiver', '__builtins__', '__cached__', '__doc__', '__file__', '__loader__', '__name__', '__package__', '__path__', '__spec__', 'archivers', 'artifact', 'base_client', 'clients', 'cluster', 'clusters', 'collections', 'common', 'config', 'constants', 'create_deployment', 'dataset', 'dataset_client', 'dataset_tag', 'dataset_tag_client', 'dataset_tags', 'dataset_version', 'dataset_version_client', 'dataset_versions', 'datasets', 'delete_deployment', 'get_deployment', 'get_deployment_logs', 'get_model_usage', 'gradient_deployments', 'graphql', 'http_client', 'list_deployments', 'log', 'logger', 'machine', 'machine_types', 'machine_types_client', 'machines', 'machines_client', 'model', 'model_client', 'models', 'notebook', 'notebook_client', 'notebooks', 'pagination', 'project', 'project_client', 'projects', 'repositories', 's3_uploader', 'sdk_client', 'sdk_exceptions', 'secret', 'secret_client', 'secrets', 'serializers', 'storage_provider', 'storage_provider_client', 'storage_providers', 'tag', 'tags', 'update_deployment', 'utils', 'vm_type', 'workflow_client', 'workflows', 'yield_deployment_logs']\n"
     ]
    }
   ],
   "source": [
    "import gradient\n",
    "print(dir(gradient))\n",
    "\n",
    "# また、APIのインポート構造も確認\n",
    "import gradient.api_sdk\n",
    "print(dir(gradient.api_sdk))"
   ]
  },
  {
   "cell_type": "code",
   "execution_count": 35,
   "id": "77e3982d-3048-4d73-8855-e4aff15f6a62",
   "metadata": {
    "collapsed": true,
    "jupyter": {
     "outputs_hidden": true,
     "source_hidden": true
    }
   },
   "outputs": [
    {
     "name": "stdout",
     "output_type": "stream",
     "text": [
      "['__class__', '__delattr__', '__dict__', '__dir__', '__doc__', '__eq__', '__format__', '__ge__', '__getattribute__', '__gt__', '__hash__', '__init__', '__init_subclass__', '__le__', '__lt__', '__module__', '__ne__', '__new__', '__reduce__', '__reduce_ex__', '__repr__', '__setattr__', '__sizeof__', '__str__', '__subclasshook__', '__weakref__', 'add_tags', 'api_key', 'build_repository', 'create', 'delete', 'diff_tags', 'entity', 'get', 'get_utilization', 'is_available', 'list', 'list_tags', 'logger', 'merge_tags', 'ps_client_name', 'remove_tags', 'restart', 'start', 'stop', 'update', 'wait_for_state']\n",
      "Help on method list in module gradient.api_sdk.clients.machines_client:\n",
      "\n",
      "list(id=None, name=None, os=None, ram=None, cpus=None, gpu=None, storage_total=None, storage_used=None, usage_rate=None, shutdown_timeout_in_hours=None, perform_auto_snapshot=None, auto_snapshot_frequency=None, auto_snapshot_save_count=None, agent_type=None, created_timestamp=None, state=None, updates_pending=None, network_id=None, private_ip_address=None, public_ip_address=None, region=None, user_id=None, team_id=None, last_run_timestamp=None) method of gradient.api_sdk.clients.machines_client.MachinesClient instance\n",
      "    :param str id: Optional machine id to match on\n",
      "    :param str name: Filter by machine name\n",
      "    :param str os: Filter by os used\n",
      "    :param int ram: Filter by machine RAM (in bytes)\n",
      "    :param int cpus: Filter by CPU count\n",
      "    :param str gpu: Filter by GPU type\n",
      "    :param str storage_total: Filter by total storage\n",
      "    :param str storage_used: Filter by storage used\n",
      "    :param str usage_rate: Filter by usage rate\n",
      "    :param int shutdown_timeout_in_hours: Filter by shutdown timeout\n",
      "    :param bool perform_auto_snapshot: Filter by performAutoSnapshot flag\n",
      "    :param str auto_snapshot_frequency: Filter by autoSnapshotFrequency flag\n",
      "    :param int auto_snapshot_save_count: Filter by auto shapshots count\n",
      "    :param str agent_type: Filter by agent type\n",
      "    :param datetime created_timestamp: Filter by date created\n",
      "    :param str state: Filter by state\n",
      "    :param str updates_pending: Filter by updates pending\n",
      "    :param str network_id: Filter by network ID\n",
      "    :param str private_ip_address: Filter by private IP address\n",
      "    :param str public_ip_address: Filter by public IP address\n",
      "    :param str region: Filter by region. One of {CA, NY2, AMS1}\n",
      "    :param str user_id: Filter by user ID\n",
      "    :param str team_id: Filter by team ID\n",
      "    :param str last_run_timestamp: Filter by last run date\n",
      "    \n",
      "    :return: List of machines\n",
      "    :rtype: list[models.Machine]\n",
      "\n"
     ]
    }
   ],
   "source": [
    "from gradient.api_sdk import SdkClient\n",
    "from gradient.api_sdk.clients import MachinesClient, ProjectsClient\n",
    "\n",
    "# 既存のAPIキーを使用\n",
    "# お使いのAPIキーを変数として定義\n",
    "api_key = \"c0a09af6c09711acecaff15f1a491b\"  # 実際のAPIキーに置き換え\n",
    "\n",
    "client = SdkClient(api_key)\n",
    "machines_client = MachinesClient(api_key)\n",
    "\n",
    "# まず利用可能なメソッドを確認\n",
    "print(dir(machines_client))\n",
    "\n",
    "# また、listメソッドのドキュメントも確認\n",
    "help(machines_client.list)"
   ]
  },
  {
   "cell_type": "code",
   "execution_count": 50,
   "id": "3e869aaf-3104-4073-ad6a-5d1b28ee64a6",
   "metadata": {
    "collapsed": true,
    "jupyter": {
     "outputs_hidden": true,
     "source_hidden": true
    }
   },
   "outputs": [
    {
     "name": "stdout",
     "output_type": "stream",
     "text": [
      "1. Machines object: []\n",
      "2. Type of machines: <class 'list'>\n",
      "\n",
      "3. Available methods on machines_client:\n",
      "['add_tags', 'api_key', 'build_repository', 'create', 'delete', 'diff_tags', 'entity', 'get', 'get_utilization', 'is_available', 'list', 'list_tags', 'logger', 'merge_tags', 'ps_client_name', 'remove_tags', 'restart', 'start', 'stop', 'update', 'wait_for_state']\n",
      "\n",
      "4. Error getting single machine: Failed to fetch data: Machine not found\n"
     ]
    }
   ],
   "source": [
    "from gradient.api_sdk import SdkClient\n",
    "from gradient.api_sdk.clients import MachinesClient\n",
    "\n",
    "API_KEY = \"c0a09af6c09711acecaff15f1a491b\"\n",
    "client = SdkClient(api_key=API_KEY)\n",
    "machines_client = MachinesClient(api_key=API_KEY)\n",
    "\n",
    "# まずメソッドの呼び出しを確認\n",
    "machines = machines_client.list()\n",
    "print(\"1. Machines object:\", machines)\n",
    "print(\"2. Type of machines:\", type(machines))\n",
    "\n",
    "# 利用可能なメソッドも確認してみましょう\n",
    "print(\"\\n3. Available methods on machines_client:\")\n",
    "methods = [method for method in dir(machines_client) if not method.startswith('_')]\n",
    "print(methods)\n",
    "\n",
    "# get()メソッドも試してみましょう\n",
    "try:\n",
    "    machine = machines_client.get(\"Free-A4000\")  # または特定のマシンID\n",
    "    print(\"\\n4. Single machine info:\", machine)\n",
    "except Exception as e:\n",
    "    print(\"\\n4. Error getting single machine:\", e)"
   ]
  },
  {
   "cell_type": "code",
   "execution_count": 51,
   "id": "dd440668-ea22-4785-b9c0-827a47a05f0d",
   "metadata": {
    "collapsed": true,
    "jupyter": {
     "outputs_hidden": true,
     "source_hidden": true
    }
   },
   "outputs": [
    {
     "name": "stdout",
     "output_type": "stream",
     "text": [
      "1. Projects: [Project(id='p6uxy0xclgh', name='gaus-ganymede', repository_name=None, repository_url=None, created=datetime.datetime(2024, 2, 29, 3, 38, 35, 610000, tzinfo=tzutc()), tags=[]), Project(id='pfgk9ewmvn8', name='vesta-dropout', repository_name=None, repository_url=None, created=datetime.datetime(2023, 8, 23, 5, 4, 25, 339000, tzinfo=tzutc()), tags=[]), Project(id='po5hc48kyoj', name='maxout-earth', repository_name=None, repository_url=None, created=datetime.datetime(2023, 8, 20, 6, 44, 27, 800000, tzinfo=tzutc()), tags=[])]\n",
      "\n",
      "2. Free-A4000 availability: False\n",
      "\n",
      "3. Error getting utilization: get_utilization() got an unexpected keyword argument 'machine_id'\n"
     ]
    }
   ],
   "source": [
    "from gradient.api_sdk import SdkClient\n",
    "from gradient.api_sdk.clients import ProjectsClient, MachinesClient\n",
    "\n",
    "API_KEY = \"c0a09af6c09711acecaff15f1a491b\"\n",
    "client = SdkClient(api_key=API_KEY)\n",
    "\n",
    "# まずProjectsClientで確認\n",
    "projects_client = ProjectsClient(api_key=API_KEY)\n",
    "projects = projects_client.list()\n",
    "print(\"1. Projects:\", projects)\n",
    "\n",
    "# プロジェクトIDを使用してマシンを取得\n",
    "project_id = \"po5hc48kyoj\"  # 既知のプロジェクトID\n",
    "machines_client = MachinesClient(api_key=API_KEY)\n",
    "\n",
    "# 利用可能なマシンタイプも確認\n",
    "try:\n",
    "    available = machines_client.is_available(\n",
    "        machine_type=\"Free-A4000\",\n",
    "        region=\"AMS1\"  # または \"NY2\", \"CA\" など\n",
    "    )\n",
    "    print(\"\\n2. Free-A4000 availability:\", available)\n",
    "except Exception as e:\n",
    "    print(\"\\n2. Error checking availability:\", e)\n",
    "\n",
    "# マシンの状態も確認\n",
    "try:\n",
    "    utilization = machines_client.get_utilization(machine_id=\"Free-A4000\")\n",
    "    print(\"\\n3. Machine utilization:\", utilization)\n",
    "except Exception as e:\n",
    "    print(\"\\n3. Error getting utilization:\", e)"
   ]
  },
  {
   "cell_type": "code",
   "execution_count": 7,
   "id": "99a11296-ad3e-4c00-b870-03867beac4fd",
   "metadata": {
    "collapsed": true,
    "jupyter": {
     "outputs_hidden": true,
     "source_hidden": true
    },
    "scrolled": true
   },
   "outputs": [
    {
     "name": "stdout",
     "output_type": "stream",
     "text": [
      "False\n",
      "0\n"
     ]
    },
    {
     "ename": "RuntimeError",
     "evalue": "Found no NVIDIA driver on your system. Please check that you have an NVIDIA GPU and installed a driver from http://www.nvidia.com/Download/index.aspx",
     "output_type": "error",
     "traceback": [
      "\u001b[0;31m---------------------------------------------------------------------------\u001b[0m",
      "\u001b[0;31mRuntimeError\u001b[0m                              Traceback (most recent call last)",
      "Cell \u001b[0;32mIn[7], line 4\u001b[0m\n\u001b[1;32m      2\u001b[0m \u001b[38;5;28mprint\u001b[39m(torch\u001b[38;5;241m.\u001b[39mcuda\u001b[38;5;241m.\u001b[39mis_available())\n\u001b[1;32m      3\u001b[0m \u001b[38;5;28mprint\u001b[39m(torch\u001b[38;5;241m.\u001b[39mcuda\u001b[38;5;241m.\u001b[39mdevice_count())\n\u001b[0;32m----> 4\u001b[0m \u001b[38;5;28mprint\u001b[39m(\u001b[43mtorch\u001b[49m\u001b[38;5;241;43m.\u001b[39;49m\u001b[43mcuda\u001b[49m\u001b[38;5;241;43m.\u001b[39;49m\u001b[43mget_device_name\u001b[49m\u001b[43m(\u001b[49m\u001b[38;5;241;43m0\u001b[39;49m\u001b[43m)\u001b[49m)\n",
      "File \u001b[0;32m~/.local/lib/python3.9/site-packages/torch/cuda/__init__.py:493\u001b[0m, in \u001b[0;36mget_device_name\u001b[0;34m(device)\u001b[0m\n\u001b[1;32m    481\u001b[0m \u001b[38;5;28;01mdef\u001b[39;00m\u001b[38;5;250m \u001b[39m\u001b[38;5;21mget_device_name\u001b[39m(device: Optional[_device_t] \u001b[38;5;241m=\u001b[39m \u001b[38;5;28;01mNone\u001b[39;00m) \u001b[38;5;241m-\u001b[39m\u001b[38;5;241m>\u001b[39m \u001b[38;5;28mstr\u001b[39m:\n\u001b[1;32m    482\u001b[0m \u001b[38;5;250m    \u001b[39m\u001b[38;5;124mr\u001b[39m\u001b[38;5;124;03m\"\"\"Get the name of a device.\u001b[39;00m\n\u001b[1;32m    483\u001b[0m \n\u001b[1;32m    484\u001b[0m \u001b[38;5;124;03m    Args:\u001b[39;00m\n\u001b[0;32m   (...)\u001b[0m\n\u001b[1;32m    491\u001b[0m \u001b[38;5;124;03m        str: the name of the device\u001b[39;00m\n\u001b[1;32m    492\u001b[0m \u001b[38;5;124;03m    \"\"\"\u001b[39;00m\n\u001b[0;32m--> 493\u001b[0m     \u001b[38;5;28;01mreturn\u001b[39;00m \u001b[43mget_device_properties\u001b[49m\u001b[43m(\u001b[49m\u001b[43mdevice\u001b[49m\u001b[43m)\u001b[49m\u001b[38;5;241m.\u001b[39mname\n",
      "File \u001b[0;32m~/.local/lib/python3.9/site-packages/torch/cuda/__init__.py:523\u001b[0m, in \u001b[0;36mget_device_properties\u001b[0;34m(device)\u001b[0m\n\u001b[1;32m    513\u001b[0m \u001b[38;5;28;01mdef\u001b[39;00m\u001b[38;5;250m \u001b[39m\u001b[38;5;21mget_device_properties\u001b[39m(device: _device_t) \u001b[38;5;241m-\u001b[39m\u001b[38;5;241m>\u001b[39m _CudaDeviceProperties:\n\u001b[1;32m    514\u001b[0m \u001b[38;5;250m    \u001b[39m\u001b[38;5;124mr\u001b[39m\u001b[38;5;124;03m\"\"\"Get the properties of a device.\u001b[39;00m\n\u001b[1;32m    515\u001b[0m \n\u001b[1;32m    516\u001b[0m \u001b[38;5;124;03m    Args:\u001b[39;00m\n\u001b[0;32m   (...)\u001b[0m\n\u001b[1;32m    521\u001b[0m \u001b[38;5;124;03m        _CudaDeviceProperties: the properties of the device\u001b[39;00m\n\u001b[1;32m    522\u001b[0m \u001b[38;5;124;03m    \"\"\"\u001b[39;00m\n\u001b[0;32m--> 523\u001b[0m     \u001b[43m_lazy_init\u001b[49m\u001b[43m(\u001b[49m\u001b[43m)\u001b[49m  \u001b[38;5;66;03m# will define _get_device_properties\u001b[39;00m\n\u001b[1;32m    524\u001b[0m     device \u001b[38;5;241m=\u001b[39m _get_device_index(device, optional\u001b[38;5;241m=\u001b[39m\u001b[38;5;28;01mTrue\u001b[39;00m)\n\u001b[1;32m    525\u001b[0m     \u001b[38;5;28;01mif\u001b[39;00m device \u001b[38;5;241m<\u001b[39m \u001b[38;5;241m0\u001b[39m \u001b[38;5;129;01mor\u001b[39;00m device \u001b[38;5;241m>\u001b[39m\u001b[38;5;241m=\u001b[39m device_count():\n",
      "File \u001b[0;32m~/.local/lib/python3.9/site-packages/torch/cuda/__init__.py:319\u001b[0m, in \u001b[0;36m_lazy_init\u001b[0;34m()\u001b[0m\n\u001b[1;32m    317\u001b[0m \u001b[38;5;28;01mif\u001b[39;00m \u001b[38;5;124m\"\u001b[39m\u001b[38;5;124mCUDA_MODULE_LOADING\u001b[39m\u001b[38;5;124m\"\u001b[39m \u001b[38;5;129;01mnot\u001b[39;00m \u001b[38;5;129;01min\u001b[39;00m os\u001b[38;5;241m.\u001b[39menviron:\n\u001b[1;32m    318\u001b[0m     os\u001b[38;5;241m.\u001b[39menviron[\u001b[38;5;124m\"\u001b[39m\u001b[38;5;124mCUDA_MODULE_LOADING\u001b[39m\u001b[38;5;124m\"\u001b[39m] \u001b[38;5;241m=\u001b[39m \u001b[38;5;124m\"\u001b[39m\u001b[38;5;124mLAZY\u001b[39m\u001b[38;5;124m\"\u001b[39m\n\u001b[0;32m--> 319\u001b[0m \u001b[43mtorch\u001b[49m\u001b[38;5;241;43m.\u001b[39;49m\u001b[43m_C\u001b[49m\u001b[38;5;241;43m.\u001b[39;49m\u001b[43m_cuda_init\u001b[49m\u001b[43m(\u001b[49m\u001b[43m)\u001b[49m\n\u001b[1;32m    320\u001b[0m \u001b[38;5;66;03m# Some of the queued calls may reentrantly call _lazy_init();\u001b[39;00m\n\u001b[1;32m    321\u001b[0m \u001b[38;5;66;03m# we need to just return without initializing in that case.\u001b[39;00m\n\u001b[1;32m    322\u001b[0m \u001b[38;5;66;03m# However, we must not let any *other* threads in!\u001b[39;00m\n\u001b[1;32m    323\u001b[0m _tls\u001b[38;5;241m.\u001b[39mis_initializing \u001b[38;5;241m=\u001b[39m \u001b[38;5;28;01mTrue\u001b[39;00m\n",
      "\u001b[0;31mRuntimeError\u001b[0m: Found no NVIDIA driver on your system. Please check that you have an NVIDIA GPU and installed a driver from http://www.nvidia.com/Download/index.aspx"
     ]
    }
   ],
   "source": [
    "import torch\n",
    "print(torch.cuda.is_available())\n",
    "print(torch.cuda.device_count())\n",
    "print(torch.cuda.get_device_name(0))"
   ]
  },
  {
   "cell_type": "code",
   "execution_count": 4,
   "id": "96923b21-5266-42a2-a9a5-21feb998b07f",
   "metadata": {},
   "outputs": [
    {
     "name": "stdout",
     "output_type": "stream",
     "text": [
      "False\n"
     ]
    }
   ],
   "source": [
    "import torch\n"
   ]
  },
  {
   "cell_type": "code",
   "execution_count": 24,
   "id": "89d8cd39-6c5e-42b6-bdf1-21fb06151a3a",
   "metadata": {
    "collapsed": true,
    "jupyter": {
     "outputs_hidden": true,
     "source_hidden": true
    }
   },
   "outputs": [
    {
     "name": "stdout",
     "output_type": "stream",
     "text": [
      "Gradient version: 0.0.1\n",
      "\n",
      "Available modules:\n",
      "__main__\n",
      "api_sdk\n",
      "cli\n",
      "cli_constants\n",
      "clilogger\n",
      "cliutils\n",
      "commands\n",
      "config\n",
      "exceptions\n",
      "login\n",
      "main\n",
      "version\n",
      "version_checker\n",
      "\n",
      "API SDK structure:\n",
      "archivers\n",
      "clients\n",
      "config\n",
      "constants\n",
      "graphql\n",
      "logger\n",
      "models\n",
      "repositories\n",
      "s3_downloader\n",
      "s3_uploader\n",
      "sdk_exceptions\n",
      "serializers\n",
      "utils\n",
      "validation_messages\n"
     ]
    }
   ],
   "source": [
    "# 現在のgradientバージョンを確認\n",
    "import gradient\n",
    "print(\"Gradient version:\", gradient.__version__)\n",
    "\n",
    "# 利用可能なモジュールを確認\n",
    "print(\"\\nAvailable modules:\")\n",
    "import pkgutil\n",
    "for module in pkgutil.iter_modules(gradient.__path__):\n",
    "    print(module.name)\n",
    "\n",
    "# api_sdkの構造を確認\n",
    "print(\"\\nAPI SDK structure:\")\n",
    "import gradient.api_sdk\n",
    "for module in pkgutil.iter_modules(gradient.api_sdk.__path__):\n",
    "    print(module.name)"
   ]
  }
 ],
 "metadata": {
  "kernelspec": {
   "display_name": "Python 3 (ipykernel)",
   "language": "python",
   "name": "python3"
  },
  "language_info": {
   "codemirror_mode": {
    "name": "ipython",
    "version": 3
   },
   "file_extension": ".py",
   "mimetype": "text/x-python",
   "name": "python",
   "nbconvert_exporter": "python",
   "pygments_lexer": "ipython3",
   "version": "3.9.21"
  }
 },
 "nbformat": 4,
 "nbformat_minor": 5
}
